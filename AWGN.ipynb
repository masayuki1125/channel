{
 "cells": [
  {
   "cell_type": "code",
   "execution_count": 64,
   "metadata": {},
   "outputs": [],
   "source": [
    "import numpy as np\n",
    "import time"
   ]
  },
  {
   "cell_type": "code",
   "execution_count": 65,
   "metadata": {},
   "outputs": [],
   "source": [
    "class _AWGN():\n",
    "  def __init__(self,M=2):\n",
    "    '''\n",
    "    input constant about channel\n",
    "    -----------\n",
    "    M:変調多値数\n",
    "    TX_antenna:送信側アンテナ数\n",
    "    RX_antenna:受信側アンテナ数\n",
    "    '''\n",
    "\n",
    "    self.M=M #変調多値数\n",
    "    self.M_bits = int(np.log2(self.M))\n",
    "    self.TX_antenna=1\n",
    "    self.RX_antenna=1"
   ]
  },
  {
   "cell_type": "code",
   "execution_count": 66,
   "metadata": {},
   "outputs": [],
   "source": [
    "class _AWGN(_AWGN):\n",
    "  def add_AWGN(self,constellation,No):\n",
    "    '''\n",
    "    ---input---\n",
    "    constellation:the sequence of constellation which is modulated\n",
    "    No:noise variance\n",
    "    \n",
    "    ---output---\n",
    "    RX_constallation: recieved constellation\n",
    "    '''\n",
    "\n",
    "    # AWGN雑音の生成\n",
    "    noise = np.random.normal(0, np.sqrt(No / 2), (len(constellation))) + 1j * np.random.normal(0, np.sqrt(No / 2), (len(constellation)))\n",
    "\n",
    "    # AWGN通信路 = 送信シンボル間干渉が生じないような通信路で送信\n",
    "    RX_constellation = constellation + noise\n",
    "\n",
    "    # 以下のprint関数の出力を表示すると、Noとほぼ一致するはず\n",
    "    #print(np.dot(noise[0, :], np.conj(noise[0, :]))/bit_num)\n",
    "\n",
    "    return RX_constellation"
   ]
  },
  {
   "cell_type": "code",
   "execution_count": 67,
   "metadata": {},
   "outputs": [],
   "source": [
    "class _AWGN(_AWGN):\n",
    "  def demodulate(self,RX_constellation,No):\n",
    "    if self.M_bits==1:\n",
    "      y=RX_constellation.real\n",
    "\n",
    "    #elif self.M_bits==2:\n",
    "      #y=np.zeros(K)\n",
    "      #y[::2]=RX_constellation.real\n",
    "      #y[1::2]=RX_constellation.imag\n",
    "      #y = np.array([])\n",
    "      #for i in range(len(RX_constellation)):\n",
    "          #tmp=[RX_constellation[i].real,RX_constellation[i].imag]\n",
    "          #y=np.append(y,tmp)\n",
    "      #print(y)\n",
    "      \n",
    "    Lc=4*y/No\n",
    "    \n",
    "    return Lc"
   ]
  },
  {
   "cell_type": "code",
   "execution_count": 68,
   "metadata": {},
   "outputs": [],
   "source": [
    "class _AWGN(_AWGN):\n",
    "  def generate_QAM(self,information):\n",
    "    if self.M_bits==1:\n",
    "      constellation=2*information-1\n",
    "\n",
    "    elif self.M_bits==2:\n",
    "      for i in range(len(information)//self.M_bits):\n",
    "        constellation=np.array([],dtype=complex)\n",
    "        tmp=(2*information[2*i]-1)+1j*(2*information[2*i+1]-1)\n",
    "        constellation=np.append(constellation,tmp)\n",
    "    return constellation"
   ]
  },
  {
   "cell_type": "code",
   "execution_count": 69,
   "metadata": {},
   "outputs": [],
   "source": [
    "class _AWGN(_AWGN):\n",
    "  def generate_LLR(self,information,EbNodB):\n",
    "    '''\n",
    "    information:1D sequence\n",
    "    EbNodB:EsNodB\n",
    "    --------\n",
    "    output:LLR of channel output\n",
    "    '''\n",
    "    # Additive Gaussian White Noiseの生成する際のパラメータ設定\n",
    "    EbNo = 10 ** (EbNodB / 10)\n",
    "    No=1/EbNo #Eb=1(fixed)\n",
    "\n",
    "    #tmp=self.bi2de(np.reshape(information, (len(information)//self.M_bits, self.M_bits), order='F'))\n",
    "    constellation=self.generate_QAM(information)\n",
    "    RX_constellation=self.add_AWGN(constellation,No)\n",
    "    Lc=self.demodulate(RX_constellation,No)\n",
    "    #print(Lc)\n",
    "    return Lc\n"
   ]
  },
  {
   "cell_type": "code",
   "execution_count": 71,
   "metadata": {},
   "outputs": [
    {
     "name": "stdout",
     "output_type": "stream",
     "text": [
      "[0. 0. 0. 0. 0. 0. 0. 0. 0. 0. 0. 0. 0. 0. 0. 0. 0. 0. 0. 0. 0. 0. 0. 0.\n",
      " 0. 0. 0. 0. 0. 0. 0. 0. 0. 0. 0. 0. 0. 0. 0. 0. 0. 0. 0. 0. 0. 0. 0. 0.\n",
      " 0. 0. 0. 0. 0. 0. 0. 0. 0. 0. 0. 0. 0. 0. 0. 0. 0. 0. 0. 0. 0. 0. 0. 0.\n",
      " 0. 0. 0. 0. 0. 0. 0. 0. 0. 0. 0. 0. 0. 0. 0. 0. 0. 0. 0. 0. 0. 0. 0. 0.\n",
      " 0. 0. 0. 0.]\n",
      "0\n",
      "0\n",
      "0.07923076923076923\n",
      "1\n",
      "0.066875\n",
      "2\n",
      "0.03777777777777778\n",
      "3\n",
      "0.0255\n",
      "4\n",
      "0.01282051282051282\n",
      "5\n",
      "0.005917159763313609\n",
      "6\n",
      "0.002717391304347826\n",
      "7\n",
      "0.0008203445447087777\n",
      "8\n",
      "0.00019755037534571315\n",
      "9\n",
      "3.848522167487685e-05\n",
      "time cost: 3.554413080215454 s\n"
     ]
    }
   ],
   "source": [
    "if __name__==\"__main__\":\n",
    "  ch=_AWGN()\n",
    "  time_start = time.time()  \n",
    "  information=np.zeros(100)\n",
    "  res=ch.generate_LLR(information,100)\n",
    "  res=np.sign(res)\n",
    "  EST_information=(res+1)//2\n",
    "  print(EST_information)\n",
    "  #print(information)\n",
    "  print(np.sum(information!=EST_information))\n",
    "  #print(ch.channel(information,100))\n",
    "  \n",
    "  K=100\n",
    "  MAX_ERR=100\n",
    "  \n",
    "  for EbNodB in range(0,10):\n",
    "    print(EbNodB)\n",
    "    count_err=0\n",
    "    count_all=0\n",
    "    while count_err<MAX_ERR:\n",
    "      information=np.random.randint(0,2,K)\n",
    "      res=ch.generate_LLR(information,EbNodB)\n",
    "      res=np.sign(res)\n",
    "      EST_information=(res+1)//2\n",
    "      #print(EST_information)\n",
    "      #print(information)\n",
    "      count_err+=np.sum(information!=EST_information)\n",
    "      #print(count_err)\n",
    "      count_all+=K\n",
    "\n",
    "    print(count_err/count_all)\n",
    "    \n",
    "  \n",
    "\n",
    "  time_end = time.time()  \n",
    "  time_cost = time_end - time_start  \n",
    "  print('time cost:', time_cost, 's')"
   ]
  },
  {
   "cell_type": "code",
   "execution_count": null,
   "metadata": {},
   "outputs": [],
   "source": []
  }
 ],
 "metadata": {
  "interpreter": {
   "hash": "2d10f77717f7158c16ff87710fa1e3d60d6501755bea59c4450e96f9e5d3338d"
  },
  "kernelspec": {
   "display_name": "Python 3.7.10 64-bit ('3.7.10': pyenv)",
   "language": "python",
   "name": "python3"
  },
  "language_info": {
   "codemirror_mode": {
    "name": "ipython",
    "version": 3
   },
   "file_extension": ".py",
   "mimetype": "text/x-python",
   "name": "python",
   "nbconvert_exporter": "python",
   "pygments_lexer": "ipython3",
   "version": "3.7.10"
  },
  "orig_nbformat": 4
 },
 "nbformat": 4,
 "nbformat_minor": 2
}
